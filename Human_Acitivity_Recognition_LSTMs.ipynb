{
  "nbformat": 4,
  "nbformat_minor": 0,
  "metadata": {
    "colab": {
      "name": "Human Acitivity Recognition - LSTMs.ipynb",
      "provenance": [],
      "authorship_tag": "ABX9TyMYMv7+1n6al+MntpNXBifh",
      "include_colab_link": true
    },
    "kernelspec": {
      "name": "python3",
      "display_name": "Python 3"
    },
    "language_info": {
      "name": "python"
    }
  },
  "cells": [
    {
      "cell_type": "markdown",
      "metadata": {
        "id": "view-in-github",
        "colab_type": "text"
      },
      "source": [
        "<a href=\"https://colab.research.google.com/github/rorschach02/Human-Activity-Recognition/blob/main/Human_Acitivity_Recognition_LSTMs.ipynb\" target=\"_parent\"><img src=\"https://colab.research.google.com/assets/colab-badge.svg\" alt=\"Open In Colab\"/></a>"
      ]
    },
    {
      "cell_type": "code",
      "execution_count": 2,
      "metadata": {
        "id": "d7txNUFVqPKf",
        "colab": {
          "base_uri": "https://localhost:8080/"
        },
        "outputId": "c3915592-1aef-4a6f-a407-4390b5a56fac"
      },
      "outputs": [
        {
          "output_type": "stream",
          "name": "stdout",
          "text": [
            "Mounted at /content/drive\n"
          ]
        }
      ],
      "source": [
        "from google.colab import drive\n",
        "drive.mount('/content/drive')"
      ]
    },
    {
      "cell_type": "code",
      "source": [
        "# Importing Libraries\n",
        "\n",
        "import pandas as pd\n",
        "import numpy as np\n",
        "\n",
        "# Import Keras\n",
        "from keras import backend as K\n",
        "from keras.models import Sequential\n",
        "from keras.layers import LSTM\n",
        "from keras.layers.core import Dense, Dropout\n",
        "from keras.layers import BatchNormalization\n",
        "from keras.regularizers import L1L2\n"
      ],
      "metadata": {
        "id": "h2KMPylkv84u"
      },
      "execution_count": 3,
      "outputs": []
    },
    {
      "cell_type": "code",
      "source": [
        "import matplotlib.pyplot as plt\n",
        "import seaborn as sns\n"
      ],
      "metadata": {
        "id": "p_sh4wULxm6-"
      },
      "execution_count": 4,
      "outputs": []
    },
    {
      "cell_type": "code",
      "source": [
        "# Activities are the class labels\n",
        "# It is a 6 class classification\n",
        "ACTIVITIES = {\n",
        "    0: 'WALKING',\n",
        "    1: 'WALKING_UPSTAIRS',\n",
        "    2: 'WALKING_DOWNSTAIRS',\n",
        "    3: 'SITTING',\n",
        "    4: 'STANDING',\n",
        "    5: 'LAYING',\n",
        "}\n",
        "\n",
        "def confusion_matrix(Y_true, Y_pred):\n",
        "    \n",
        "    Y_true = pd.Series([ACTIVITIES[y] for y in np.argmax(Y_true, axis=1)])\n",
        "    Y_pred = pd.Series([ACTIVITIES[y] for y in np.argmax(Y_pred, axis=1)])\n",
        "\n",
        "    return pd.crosstab(Y_true, Y_pred, rownames=['True'], colnames=['Pred'])\n",
        "\n"
      ],
      "metadata": {
        "id": "OIPuD1W9xiEY"
      },
      "execution_count": 5,
      "outputs": []
    },
    {
      "cell_type": "markdown",
      "source": [
        "Loading Data:"
      ],
      "metadata": {
        "id": "S-gEXRWyxrwn"
      }
    },
    {
      "cell_type": "code",
      "source": [
        "# Data directory\n",
        "DATADIR = 'UCI_HAR_Dataset'\n",
        "\n",
        "# Raw data signals\n",
        "# Signals are from Accelerometer and Gyroscope\n",
        "# The signals are in x,y,z directions\n",
        "# Sensor signals are filtered to have only body acceleration\n",
        "# excluding the acceleration due to gravity\n",
        "# Triaxial acceleration from the accelerometer is total acceleration\n",
        "SIGNALS = [\n",
        "    \"body_acc_x\",\n",
        "    \"body_acc_y\",\n",
        "    \"body_acc_z\",\n",
        "    \"body_gyro_x\",\n",
        "    \"body_gyro_y\",\n",
        "    \"body_gyro_z\",\n",
        "    \"total_acc_x\",\n",
        "    \"total_acc_y\",\n",
        "    \"total_acc_z\"\n",
        "    ]\n"
      ],
      "metadata": {
        "id": "64nDm9XFxp08"
      },
      "execution_count": 6,
      "outputs": []
    },
    {
      "cell_type": "code",
      "source": [
        "# function to read the data from csv file\n",
        "def _read_csv(filename):\n",
        "    return pd.read_csv(filename, delim_whitespace=True, header=None)\n",
        "\n",
        "# function to load the load\n",
        "def load_signals(subset):\n",
        "    signals_data = []\n",
        "\n",
        "    for signal in SIGNALS:\n",
        "        filename = f'drive/MyDrive/UCI_HAR_Dataset/{subset}/Inertial Signals/{signal}_{subset}.txt'\n",
        "        signals_data.append(\n",
        "            _read_csv(filename).to_numpy()\n",
        "        ) \n",
        "\n",
        "    # Transpose is used to change the dimensionality of the output,\n",
        "    # aggregating the signals by combination of sample/timestep.\n",
        "    # Resultant shape is (7352 train/2947 test samples, 128 timesteps, 9 signals)\n",
        "    return np.transpose(signals_data, (1, 2, 0))\n"
      ],
      "metadata": {
        "id": "QK4KR-pwxxa8"
      },
      "execution_count": 20,
      "outputs": []
    },
    {
      "cell_type": "code",
      "source": [
        "def load_y(subset):\n",
        "    \"\"\"\n",
        "    The objective that we are trying to predict is a integer, from 1 to 6,\n",
        "    that represents a human activity. We return a binary representation of \n",
        "    every sample objective as a 6 bits vector using One Hot Encoding\n",
        "    (https://pandas.pydata.org/pandas-docs/stable/generated/pandas.get_dummies.html)\n",
        "    \"\"\"\n",
        "    filename = f'drive/MyDrive/UCI_HAR_Dataset/{subset}/y_{subset}.txt'\n",
        "    y = _read_csv(filename)[0]\n",
        "\n",
        "    return pd.get_dummies(y).to_numpy()\n"
      ],
      "metadata": {
        "id": "QcCvEZKryEW1"
      },
      "execution_count": 21,
      "outputs": []
    },
    {
      "cell_type": "code",
      "source": [
        "def load_data():\n",
        "    \"\"\"\n",
        "    Obtain the dataset from multiple files.\n",
        "    Returns: X_train, X_test, y_train, y_test\n",
        "    \"\"\"\n",
        "    X_train, X_test = load_signals('train'), load_signals('test')\n",
        "    y_train, y_test = load_y('train'), load_y('test')\n",
        "\n",
        "    return X_train, X_test, y_train, y_test\n"
      ],
      "metadata": {
        "id": "ySTObUmzyF1M"
      },
      "execution_count": 22,
      "outputs": []
    },
    {
      "cell_type": "code",
      "source": [
        "# Importing tensorflow\n",
        "np.random.seed(42)\n",
        "import tensorflow as tf\n",
        "tf.random.set_seed(42)\n"
      ],
      "metadata": {
        "id": "nF2zGSqyyHVk"
      },
      "execution_count": 23,
      "outputs": []
    },
    {
      "cell_type": "code",
      "source": [
        "# Initializing parameters\n",
        "epochs = 30\n",
        "batch_size = 16\n",
        "n_hidden = 32\n"
      ],
      "metadata": {
        "id": "aY60rophyIqc"
      },
      "execution_count": 24,
      "outputs": []
    },
    {
      "cell_type": "code",
      "source": [
        "#function to count the number of classes\n",
        "def _count_classes(y):\n",
        "    return len(set([tuple(category) for category in y]))\n"
      ],
      "metadata": {
        "id": "bdKWFRsXyKAk"
      },
      "execution_count": 25,
      "outputs": []
    },
    {
      "cell_type": "code",
      "source": [
        "# Loading the train and test data\n",
        "X_train, X_test, Y_train, Y_test = load_data()\n"
      ],
      "metadata": {
        "id": "hKY9MUbEyLMc"
      },
      "execution_count": 26,
      "outputs": []
    },
    {
      "cell_type": "code",
      "source": [
        "timesteps = len(X_train[0])\n",
        "input_dim = len(X_train[0][0])\n",
        "n_classes = _count_classes(Y_train)\n",
        "\n",
        "print(timesteps)\n",
        "print(input_dim)\n",
        "print(len(X_train))\n"
      ],
      "metadata": {
        "colab": {
          "base_uri": "https://localhost:8080/"
        },
        "id": "ER8VzbKRyMVk",
        "outputId": "9bd8ae43-750f-4aba-b472-6041815515d1"
      },
      "execution_count": 27,
      "outputs": [
        {
          "output_type": "stream",
          "name": "stdout",
          "text": [
            "128\n",
            "9\n",
            "7352\n"
          ]
        }
      ]
    },
    {
      "cell_type": "markdown",
      "source": [
        "1. Defining the Architecture of 1-Layer of LSTM :"
      ],
      "metadata": {
        "id": "wTTlQVL4ytW_"
      }
    },
    {
      "cell_type": "code",
      "source": [
        "# Initiliazing the sequential model\n",
        "model = Sequential()\n",
        "# Configuring the parameters\n",
        "model.add(LSTM(n_hidden, input_shape=(timesteps, input_dim)))\n",
        "# Adding a dropout layer\n",
        "model.add(Dropout(0.5))\n",
        "# Adding a dense output layer with sigmoid activation\n",
        "model.add(Dense(n_classes, activation='sigmoid'))\n",
        "model.summary()\n"
      ],
      "metadata": {
        "colab": {
          "base_uri": "https://localhost:8080/"
        },
        "id": "0oWuk1BCyrme",
        "outputId": "f27f5ea5-2605-49d6-ba53-f4f8aff23958"
      },
      "execution_count": 28,
      "outputs": [
        {
          "output_type": "stream",
          "name": "stdout",
          "text": [
            "Model: \"sequential\"\n",
            "_________________________________________________________________\n",
            " Layer (type)                Output Shape              Param #   \n",
            "=================================================================\n",
            " lstm (LSTM)                 (None, 32)                5376      \n",
            "                                                                 \n",
            " dropout (Dropout)           (None, 32)                0         \n",
            "                                                                 \n",
            " dense (Dense)               (None, 6)                 198       \n",
            "                                                                 \n",
            "=================================================================\n",
            "Total params: 5,574\n",
            "Trainable params: 5,574\n",
            "Non-trainable params: 0\n",
            "_________________________________________________________________\n"
          ]
        }
      ]
    },
    {
      "cell_type": "code",
      "source": [
        "# Compiling the model\n",
        "model.compile(loss='categorical_crossentropy', optimizer='rmsprop', metrics=['accuracy'])\n"
      ],
      "metadata": {
        "id": "ZG_EqSbKywBk"
      },
      "execution_count": 29,
      "outputs": []
    },
    {
      "cell_type": "code",
      "source": [
        "# Training the model\n",
        "model.fit(X_train, Y_train, batch_size=batch_size, validation_data=(X_test, Y_test),epochs=epochs)\n"
      ],
      "metadata": {
        "colab": {
          "base_uri": "https://localhost:8080/"
        },
        "id": "m1DmBKunyx9M",
        "outputId": "6ca0f462-221e-48b4-a9aa-5a9977c72e0a"
      },
      "execution_count": 30,
      "outputs": [
        {
          "output_type": "stream",
          "name": "stdout",
          "text": [
            "Epoch 1/30\n",
            "460/460 [==============================] - 26s 52ms/step - loss: 1.2052 - accuracy: 0.4944 - val_loss: 0.9226 - val_accuracy: 0.5945\n",
            "Epoch 2/30\n",
            "460/460 [==============================] - 24s 52ms/step - loss: 0.8041 - accuracy: 0.6500 - val_loss: 0.7612 - val_accuracy: 0.6841\n",
            "Epoch 3/30\n",
            "460/460 [==============================] - 24s 52ms/step - loss: 0.6805 - accuracy: 0.7203 - val_loss: 0.6757 - val_accuracy: 0.7418\n",
            "Epoch 4/30\n",
            "460/460 [==============================] - 24s 52ms/step - loss: 0.5312 - accuracy: 0.8111 - val_loss: 0.7307 - val_accuracy: 0.7608\n",
            "Epoch 5/30\n",
            "460/460 [==============================] - 24s 53ms/step - loss: 0.3963 - accuracy: 0.8723 - val_loss: 0.4535 - val_accuracy: 0.8585\n",
            "Epoch 6/30\n",
            "460/460 [==============================] - 24s 51ms/step - loss: 0.3088 - accuracy: 0.9101 - val_loss: 0.4747 - val_accuracy: 0.8504\n",
            "Epoch 7/30\n",
            "460/460 [==============================] - 24s 52ms/step - loss: 0.2765 - accuracy: 0.9189 - val_loss: 0.4399 - val_accuracy: 0.8599\n",
            "Epoch 8/30\n",
            "460/460 [==============================] - 24s 52ms/step - loss: 0.2366 - accuracy: 0.9223 - val_loss: 0.6782 - val_accuracy: 0.8266\n",
            "Epoch 9/30\n",
            "460/460 [==============================] - 24s 52ms/step - loss: 0.2269 - accuracy: 0.9276 - val_loss: 0.3669 - val_accuracy: 0.8907\n",
            "Epoch 10/30\n",
            "460/460 [==============================] - 24s 52ms/step - loss: 0.2023 - accuracy: 0.9308 - val_loss: 0.3486 - val_accuracy: 0.8860\n",
            "Epoch 11/30\n",
            "460/460 [==============================] - 24s 52ms/step - loss: 0.1913 - accuracy: 0.9338 - val_loss: 0.4583 - val_accuracy: 0.8860\n",
            "Epoch 12/30\n",
            "460/460 [==============================] - 24s 52ms/step - loss: 0.1816 - accuracy: 0.9363 - val_loss: 0.5140 - val_accuracy: 0.8687\n",
            "Epoch 13/30\n",
            "460/460 [==============================] - 24s 51ms/step - loss: 0.1834 - accuracy: 0.9374 - val_loss: 0.4204 - val_accuracy: 0.8829\n",
            "Epoch 14/30\n",
            "460/460 [==============================] - 24s 52ms/step - loss: 0.1615 - accuracy: 0.9388 - val_loss: 0.3996 - val_accuracy: 0.8836\n",
            "Epoch 15/30\n",
            "460/460 [==============================] - 24s 52ms/step - loss: 0.1651 - accuracy: 0.9406 - val_loss: 0.3808 - val_accuracy: 0.8795\n",
            "Epoch 16/30\n",
            "460/460 [==============================] - 24s 52ms/step - loss: 0.1548 - accuracy: 0.9440 - val_loss: 0.6441 - val_accuracy: 0.8531\n",
            "Epoch 17/30\n",
            "460/460 [==============================] - 24s 52ms/step - loss: 0.1623 - accuracy: 0.9431 - val_loss: 0.5760 - val_accuracy: 0.8867\n",
            "Epoch 18/30\n",
            "460/460 [==============================] - 24s 52ms/step - loss: 0.1712 - accuracy: 0.9421 - val_loss: 0.3684 - val_accuracy: 0.8992\n",
            "Epoch 19/30\n",
            "460/460 [==============================] - 24s 52ms/step - loss: 0.1671 - accuracy: 0.9407 - val_loss: 0.4081 - val_accuracy: 0.8958\n",
            "Epoch 20/30\n",
            "460/460 [==============================] - 24s 52ms/step - loss: 0.1443 - accuracy: 0.9460 - val_loss: 0.4446 - val_accuracy: 0.8999\n",
            "Epoch 21/30\n",
            "460/460 [==============================] - 24s 52ms/step - loss: 0.1511 - accuracy: 0.9438 - val_loss: 0.3989 - val_accuracy: 0.9023\n",
            "Epoch 22/30\n",
            "460/460 [==============================] - 24s 53ms/step - loss: 0.1476 - accuracy: 0.9440 - val_loss: 0.4258 - val_accuracy: 0.8928\n",
            "Epoch 23/30\n",
            "460/460 [==============================] - 24s 53ms/step - loss: 0.1711 - accuracy: 0.9396 - val_loss: 0.4205 - val_accuracy: 0.8894\n",
            "Epoch 24/30\n",
            "460/460 [==============================] - 24s 52ms/step - loss: 0.1564 - accuracy: 0.9440 - val_loss: 0.3927 - val_accuracy: 0.8941\n",
            "Epoch 25/30\n",
            "460/460 [==============================] - 24s 52ms/step - loss: 0.1463 - accuracy: 0.9468 - val_loss: 0.6984 - val_accuracy: 0.8755\n",
            "Epoch 26/30\n",
            "460/460 [==============================] - 24s 52ms/step - loss: 0.1401 - accuracy: 0.9478 - val_loss: 0.4219 - val_accuracy: 0.9026\n",
            "Epoch 27/30\n",
            "460/460 [==============================] - 24s 52ms/step - loss: 0.1369 - accuracy: 0.9520 - val_loss: 0.4226 - val_accuracy: 0.9002\n",
            "Epoch 28/30\n",
            "460/460 [==============================] - 24s 52ms/step - loss: 0.1559 - accuracy: 0.9464 - val_loss: 0.5500 - val_accuracy: 0.8958\n",
            "Epoch 29/30\n",
            "460/460 [==============================] - 24s 53ms/step - loss: 0.1383 - accuracy: 0.9489 - val_loss: 0.5057 - val_accuracy: 0.9043\n",
            "Epoch 30/30\n",
            "460/460 [==============================] - 24s 53ms/step - loss: 0.1417 - accuracy: 0.9491 - val_loss: 0.6416 - val_accuracy: 0.9053\n"
          ]
        },
        {
          "output_type": "execute_result",
          "data": {
            "text/plain": [
              "<keras.callbacks.History at 0x7fe37a95cd50>"
            ]
          },
          "metadata": {},
          "execution_count": 30
        }
      ]
    },
    {
      "cell_type": "code",
      "source": [
        "# Confusion Matrix\n",
        "confusion_matrix(Y_test, model.predict(X_test))\n"
      ],
      "metadata": {
        "colab": {
          "base_uri": "https://localhost:8080/",
          "height": 269
        },
        "id": "idVftEq2yzUT",
        "outputId": "4ffe6ca4-9b91-42e4-c11e-36ead2c98acb"
      },
      "execution_count": 32,
      "outputs": [
        {
          "output_type": "execute_result",
          "data": {
            "text/html": [
              "\n",
              "  <div id=\"df-dbcd32e7-bf04-4ec0-86ab-6bb62245e82f\">\n",
              "    <div class=\"colab-df-container\">\n",
              "      <div>\n",
              "<style scoped>\n",
              "    .dataframe tbody tr th:only-of-type {\n",
              "        vertical-align: middle;\n",
              "    }\n",
              "\n",
              "    .dataframe tbody tr th {\n",
              "        vertical-align: top;\n",
              "    }\n",
              "\n",
              "    .dataframe thead th {\n",
              "        text-align: right;\n",
              "    }\n",
              "</style>\n",
              "<table border=\"1\" class=\"dataframe\">\n",
              "  <thead>\n",
              "    <tr style=\"text-align: right;\">\n",
              "      <th>Pred</th>\n",
              "      <th>LAYING</th>\n",
              "      <th>SITTING</th>\n",
              "      <th>STANDING</th>\n",
              "      <th>WALKING</th>\n",
              "      <th>WALKING_DOWNSTAIRS</th>\n",
              "      <th>WALKING_UPSTAIRS</th>\n",
              "    </tr>\n",
              "    <tr>\n",
              "      <th>True</th>\n",
              "      <th></th>\n",
              "      <th></th>\n",
              "      <th></th>\n",
              "      <th></th>\n",
              "      <th></th>\n",
              "      <th></th>\n",
              "    </tr>\n",
              "  </thead>\n",
              "  <tbody>\n",
              "    <tr>\n",
              "      <th>LAYING</th>\n",
              "      <td>510</td>\n",
              "      <td>0</td>\n",
              "      <td>27</td>\n",
              "      <td>0</td>\n",
              "      <td>0</td>\n",
              "      <td>0</td>\n",
              "    </tr>\n",
              "    <tr>\n",
              "      <th>SITTING</th>\n",
              "      <td>3</td>\n",
              "      <td>408</td>\n",
              "      <td>77</td>\n",
              "      <td>0</td>\n",
              "      <td>1</td>\n",
              "      <td>2</td>\n",
              "    </tr>\n",
              "    <tr>\n",
              "      <th>STANDING</th>\n",
              "      <td>0</td>\n",
              "      <td>83</td>\n",
              "      <td>447</td>\n",
              "      <td>1</td>\n",
              "      <td>0</td>\n",
              "      <td>1</td>\n",
              "    </tr>\n",
              "    <tr>\n",
              "      <th>WALKING</th>\n",
              "      <td>0</td>\n",
              "      <td>0</td>\n",
              "      <td>1</td>\n",
              "      <td>446</td>\n",
              "      <td>24</td>\n",
              "      <td>25</td>\n",
              "    </tr>\n",
              "    <tr>\n",
              "      <th>WALKING_DOWNSTAIRS</th>\n",
              "      <td>0</td>\n",
              "      <td>0</td>\n",
              "      <td>0</td>\n",
              "      <td>0</td>\n",
              "      <td>420</td>\n",
              "      <td>0</td>\n",
              "    </tr>\n",
              "    <tr>\n",
              "      <th>WALKING_UPSTAIRS</th>\n",
              "      <td>0</td>\n",
              "      <td>0</td>\n",
              "      <td>0</td>\n",
              "      <td>1</td>\n",
              "      <td>33</td>\n",
              "      <td>437</td>\n",
              "    </tr>\n",
              "  </tbody>\n",
              "</table>\n",
              "</div>\n",
              "      <button class=\"colab-df-convert\" onclick=\"convertToInteractive('df-dbcd32e7-bf04-4ec0-86ab-6bb62245e82f')\"\n",
              "              title=\"Convert this dataframe to an interactive table.\"\n",
              "              style=\"display:none;\">\n",
              "        \n",
              "  <svg xmlns=\"http://www.w3.org/2000/svg\" height=\"24px\"viewBox=\"0 0 24 24\"\n",
              "       width=\"24px\">\n",
              "    <path d=\"M0 0h24v24H0V0z\" fill=\"none\"/>\n",
              "    <path d=\"M18.56 5.44l.94 2.06.94-2.06 2.06-.94-2.06-.94-.94-2.06-.94 2.06-2.06.94zm-11 1L8.5 8.5l.94-2.06 2.06-.94-2.06-.94L8.5 2.5l-.94 2.06-2.06.94zm10 10l.94 2.06.94-2.06 2.06-.94-2.06-.94-.94-2.06-.94 2.06-2.06.94z\"/><path d=\"M17.41 7.96l-1.37-1.37c-.4-.4-.92-.59-1.43-.59-.52 0-1.04.2-1.43.59L10.3 9.45l-7.72 7.72c-.78.78-.78 2.05 0 2.83L4 21.41c.39.39.9.59 1.41.59.51 0 1.02-.2 1.41-.59l7.78-7.78 2.81-2.81c.8-.78.8-2.07 0-2.86zM5.41 20L4 18.59l7.72-7.72 1.47 1.35L5.41 20z\"/>\n",
              "  </svg>\n",
              "      </button>\n",
              "      \n",
              "  <style>\n",
              "    .colab-df-container {\n",
              "      display:flex;\n",
              "      flex-wrap:wrap;\n",
              "      gap: 12px;\n",
              "    }\n",
              "\n",
              "    .colab-df-convert {\n",
              "      background-color: #E8F0FE;\n",
              "      border: none;\n",
              "      border-radius: 50%;\n",
              "      cursor: pointer;\n",
              "      display: none;\n",
              "      fill: #1967D2;\n",
              "      height: 32px;\n",
              "      padding: 0 0 0 0;\n",
              "      width: 32px;\n",
              "    }\n",
              "\n",
              "    .colab-df-convert:hover {\n",
              "      background-color: #E2EBFA;\n",
              "      box-shadow: 0px 1px 2px rgba(60, 64, 67, 0.3), 0px 1px 3px 1px rgba(60, 64, 67, 0.15);\n",
              "      fill: #174EA6;\n",
              "    }\n",
              "\n",
              "    [theme=dark] .colab-df-convert {\n",
              "      background-color: #3B4455;\n",
              "      fill: #D2E3FC;\n",
              "    }\n",
              "\n",
              "    [theme=dark] .colab-df-convert:hover {\n",
              "      background-color: #434B5C;\n",
              "      box-shadow: 0px 1px 3px 1px rgba(0, 0, 0, 0.15);\n",
              "      filter: drop-shadow(0px 1px 2px rgba(0, 0, 0, 0.3));\n",
              "      fill: #FFFFFF;\n",
              "    }\n",
              "  </style>\n",
              "\n",
              "      <script>\n",
              "        const buttonEl =\n",
              "          document.querySelector('#df-dbcd32e7-bf04-4ec0-86ab-6bb62245e82f button.colab-df-convert');\n",
              "        buttonEl.style.display =\n",
              "          google.colab.kernel.accessAllowed ? 'block' : 'none';\n",
              "\n",
              "        async function convertToInteractive(key) {\n",
              "          const element = document.querySelector('#df-dbcd32e7-bf04-4ec0-86ab-6bb62245e82f');\n",
              "          const dataTable =\n",
              "            await google.colab.kernel.invokeFunction('convertToInteractive',\n",
              "                                                     [key], {});\n",
              "          if (!dataTable) return;\n",
              "\n",
              "          const docLinkHtml = 'Like what you see? Visit the ' +\n",
              "            '<a target=\"_blank\" href=https://colab.research.google.com/notebooks/data_table.ipynb>data table notebook</a>'\n",
              "            + ' to learn more about interactive tables.';\n",
              "          element.innerHTML = '';\n",
              "          dataTable['output_type'] = 'display_data';\n",
              "          await google.colab.output.renderOutput(dataTable, element);\n",
              "          const docLink = document.createElement('div');\n",
              "          docLink.innerHTML = docLinkHtml;\n",
              "          element.appendChild(docLink);\n",
              "        }\n",
              "      </script>\n",
              "    </div>\n",
              "  </div>\n",
              "  "
            ],
            "text/plain": [
              "Pred                LAYING  SITTING  ...  WALKING_DOWNSTAIRS  WALKING_UPSTAIRS\n",
              "True                                 ...                                      \n",
              "LAYING                 510        0  ...                   0                 0\n",
              "SITTING                  3      408  ...                   1                 2\n",
              "STANDING                 0       83  ...                   0                 1\n",
              "WALKING                  0        0  ...                  24                25\n",
              "WALKING_DOWNSTAIRS       0        0  ...                 420                 0\n",
              "WALKING_UPSTAIRS         0        0  ...                  33               437\n",
              "\n",
              "[6 rows x 6 columns]"
            ]
          },
          "metadata": {},
          "execution_count": 32
        }
      ]
    },
    {
      "cell_type": "code",
      "source": [
        "score = model.evaluate(X_test, Y_test)\n",
        "\n",
        "print(\"\\n   cat_crossentropy  ||   accuracy \")\n",
        "print(\"  ____________________________________\")\n",
        "print(score)\n"
      ],
      "metadata": {
        "colab": {
          "base_uri": "https://localhost:8080/"
        },
        "id": "Wmu23yY11t_F",
        "outputId": "33a83e66-a8ee-4ea2-f703-9468f2aa93b3"
      },
      "execution_count": 33,
      "outputs": [
        {
          "output_type": "stream",
          "name": "stdout",
          "text": [
            "93/93 [==============================] - 1s 14ms/step - loss: 0.6416 - accuracy: 0.9053\n",
            "\n",
            "   cat_crossentropy  ||   accuracy \n",
            "  ____________________________________\n",
            "[0.6415585875511169, 0.9053274393081665]\n"
          ]
        }
      ]
    },
    {
      "cell_type": "markdown",
      "source": [
        "2. Defining the Architecture of 2-Layer of LSTM with more hyperparameter tunning\n",
        "\n"
      ],
      "metadata": {
        "id": "NdBVEtso16kg"
      }
    },
    {
      "cell_type": "code",
      "source": [
        "# Initializing parameters\n",
        "n_epochs = 30\n",
        "n_batch = 16\n",
        "n_classes = _count_classes(Y_train)\n",
        "\n",
        "# Bias regularizer value - we will use elasticnet\n",
        "reg = L1L2(0.01, 0.01)\n"
      ],
      "metadata": {
        "id": "kgHPWBFy12YE"
      },
      "execution_count": 34,
      "outputs": []
    },
    {
      "cell_type": "code",
      "source": [
        "# Model execution\n",
        "model = Sequential()\n",
        "model.add(LSTM(48, input_shape=(timesteps, input_dim), return_sequences=True,bias_regularizer=reg ))\n",
        "model.add(BatchNormalization())\n",
        "model.add(Dropout(0.50))\n",
        "model.add(LSTM(32))\n",
        "model.add(Dropout(0.50))\n",
        "model.add(Dense(n_classes, activation='sigmoid'))\n",
        "print(\"Model Summary: \")\n",
        "model.summary()\n"
      ],
      "metadata": {
        "colab": {
          "base_uri": "https://localhost:8080/"
        },
        "id": "QorBqHwC18TY",
        "outputId": "bcdefc46-1814-41b6-80cc-3a72489f89e2"
      },
      "execution_count": 35,
      "outputs": [
        {
          "output_type": "stream",
          "name": "stdout",
          "text": [
            "Model Summary: \n",
            "Model: \"sequential_1\"\n",
            "_________________________________________________________________\n",
            " Layer (type)                Output Shape              Param #   \n",
            "=================================================================\n",
            " lstm_1 (LSTM)               (None, 128, 48)           11136     \n",
            "                                                                 \n",
            " batch_normalization (BatchN  (None, 128, 48)          192       \n",
            " ormalization)                                                   \n",
            "                                                                 \n",
            " dropout_1 (Dropout)         (None, 128, 48)           0         \n",
            "                                                                 \n",
            " lstm_2 (LSTM)               (None, 32)                10368     \n",
            "                                                                 \n",
            " dropout_2 (Dropout)         (None, 32)                0         \n",
            "                                                                 \n",
            " dense_1 (Dense)             (None, 6)                 198       \n",
            "                                                                 \n",
            "=================================================================\n",
            "Total params: 21,894\n",
            "Trainable params: 21,798\n",
            "Non-trainable params: 96\n",
            "_________________________________________________________________\n"
          ]
        }
      ]
    },
    {
      "cell_type": "code",
      "source": [
        "model.compile(loss='categorical_crossentropy', optimizer='adam', metrics=['accuracy'])\n"
      ],
      "metadata": {
        "id": "ILkzfiXD1-Ih"
      },
      "execution_count": 36,
      "outputs": []
    },
    {
      "cell_type": "code",
      "source": [
        "# Training the model\n",
        "model.fit(X_train, Y_train, batch_size=n_batch, validation_data=(X_test, Y_test), epochs=n_epochs)\n"
      ],
      "metadata": {
        "colab": {
          "base_uri": "https://localhost:8080/"
        },
        "id": "S-90tOHY2AUB",
        "outputId": "4035dcdb-3980-4099-da13-db99d07101be"
      },
      "execution_count": 37,
      "outputs": [
        {
          "output_type": "stream",
          "name": "stdout",
          "text": [
            "Epoch 1/30\n",
            "460/460 [==============================] - 60s 122ms/step - loss: 1.5615 - accuracy: 0.6718 - val_loss: 1.0155 - val_accuracy: 0.8164\n",
            "Epoch 2/30\n",
            "460/460 [==============================] - 55s 120ms/step - loss: 0.7513 - accuracy: 0.8659 - val_loss: 0.6000 - val_accuracy: 0.8646\n",
            "Epoch 3/30\n",
            "460/460 [==============================] - 55s 120ms/step - loss: 0.4851 - accuracy: 0.8908 - val_loss: 0.3591 - val_accuracy: 0.9043\n",
            "Epoch 4/30\n",
            "460/460 [==============================] - 55s 120ms/step - loss: 0.2675 - accuracy: 0.9275 - val_loss: 0.5049 - val_accuracy: 0.8415\n",
            "Epoch 5/30\n",
            "460/460 [==============================] - 55s 120ms/step - loss: 0.2199 - accuracy: 0.9252 - val_loss: 0.3338 - val_accuracy: 0.8890\n",
            "Epoch 6/30\n",
            "460/460 [==============================] - 55s 120ms/step - loss: 0.3425 - accuracy: 0.8932 - val_loss: 0.3935 - val_accuracy: 0.8700\n",
            "Epoch 7/30\n",
            "460/460 [==============================] - 55s 120ms/step - loss: 0.2532 - accuracy: 0.9202 - val_loss: 0.2999 - val_accuracy: 0.8890\n",
            "Epoch 8/30\n",
            "460/460 [==============================] - 55s 121ms/step - loss: 0.2046 - accuracy: 0.9312 - val_loss: 0.2546 - val_accuracy: 0.9087\n",
            "Epoch 9/30\n",
            "460/460 [==============================] - 56s 121ms/step - loss: 0.1794 - accuracy: 0.9376 - val_loss: 0.2081 - val_accuracy: 0.9321\n",
            "Epoch 10/30\n",
            "460/460 [==============================] - 56s 121ms/step - loss: 0.2106 - accuracy: 0.9285 - val_loss: 0.2351 - val_accuracy: 0.9114\n",
            "Epoch 11/30\n",
            "460/460 [==============================] - 56s 121ms/step - loss: 0.1841 - accuracy: 0.9370 - val_loss: 0.3542 - val_accuracy: 0.8914\n",
            "Epoch 12/30\n",
            "460/460 [==============================] - 55s 119ms/step - loss: 0.1647 - accuracy: 0.9380 - val_loss: 0.1920 - val_accuracy: 0.9301\n",
            "Epoch 13/30\n",
            "460/460 [==============================] - 55s 120ms/step - loss: 0.1712 - accuracy: 0.9351 - val_loss: 0.2290 - val_accuracy: 0.9179\n",
            "Epoch 14/30\n",
            "460/460 [==============================] - 56s 121ms/step - loss: 0.1688 - accuracy: 0.9369 - val_loss: 0.2306 - val_accuracy: 0.9196\n",
            "Epoch 15/30\n",
            "460/460 [==============================] - 56s 121ms/step - loss: 0.1616 - accuracy: 0.9406 - val_loss: 0.2740 - val_accuracy: 0.9104\n",
            "Epoch 16/30\n",
            "460/460 [==============================] - 56s 122ms/step - loss: 0.1523 - accuracy: 0.9429 - val_loss: 0.2231 - val_accuracy: 0.9199\n",
            "Epoch 17/30\n",
            "460/460 [==============================] - 55s 121ms/step - loss: 0.1904 - accuracy: 0.9320 - val_loss: 0.6666 - val_accuracy: 0.8263\n",
            "Epoch 18/30\n",
            "460/460 [==============================] - 55s 121ms/step - loss: 0.1802 - accuracy: 0.9363 - val_loss: 0.2834 - val_accuracy: 0.9186\n",
            "Epoch 19/30\n",
            "460/460 [==============================] - 56s 121ms/step - loss: 0.1652 - accuracy: 0.9408 - val_loss: 0.2070 - val_accuracy: 0.9253\n",
            "Epoch 20/30\n",
            "460/460 [==============================] - 55s 120ms/step - loss: 0.1503 - accuracy: 0.9429 - val_loss: 0.2175 - val_accuracy: 0.9233\n",
            "Epoch 21/30\n",
            "460/460 [==============================] - 55s 120ms/step - loss: 0.1456 - accuracy: 0.9410 - val_loss: 0.2885 - val_accuracy: 0.9152\n",
            "Epoch 22/30\n",
            "460/460 [==============================] - 56s 121ms/step - loss: 0.1481 - accuracy: 0.9440 - val_loss: 0.2780 - val_accuracy: 0.9155\n",
            "Epoch 23/30\n",
            "460/460 [==============================] - 56s 121ms/step - loss: 0.1536 - accuracy: 0.9416 - val_loss: 0.2490 - val_accuracy: 0.9237\n",
            "Epoch 24/30\n",
            "460/460 [==============================] - 55s 120ms/step - loss: 0.1424 - accuracy: 0.9438 - val_loss: 0.5748 - val_accuracy: 0.8731\n",
            "Epoch 25/30\n",
            "460/460 [==============================] - 56s 121ms/step - loss: 0.2095 - accuracy: 0.9313 - val_loss: 0.2115 - val_accuracy: 0.9253\n",
            "Epoch 26/30\n",
            "460/460 [==============================] - 56s 121ms/step - loss: 0.1630 - accuracy: 0.9384 - val_loss: 0.2086 - val_accuracy: 0.9247\n",
            "Epoch 27/30\n",
            "460/460 [==============================] - 55s 121ms/step - loss: 0.1446 - accuracy: 0.9450 - val_loss: 0.2547 - val_accuracy: 0.9155\n",
            "Epoch 28/30\n",
            "460/460 [==============================] - 55s 120ms/step - loss: 0.1371 - accuracy: 0.9460 - val_loss: 0.2288 - val_accuracy: 0.9192\n",
            "Epoch 29/30\n",
            "460/460 [==============================] - 56s 121ms/step - loss: 0.1422 - accuracy: 0.9467 - val_loss: 0.2573 - val_accuracy: 0.9063\n",
            "Epoch 30/30\n",
            "460/460 [==============================] - 55s 121ms/step - loss: 0.1431 - accuracy: 0.9453 - val_loss: 0.3114 - val_accuracy: 0.9179\n"
          ]
        },
        {
          "output_type": "execute_result",
          "data": {
            "text/plain": [
              "<keras.callbacks.History at 0x7fe37a68ae10>"
            ]
          },
          "metadata": {},
          "execution_count": 37
        }
      ]
    },
    {
      "cell_type": "code",
      "source": [
        "confusion_matrix(Y_test, model.predict(X_test))"
      ],
      "metadata": {
        "colab": {
          "base_uri": "https://localhost:8080/",
          "height": 269
        },
        "id": "O3weun2R2BV4",
        "outputId": "5b724d4d-16a9-4ceb-a1cc-4a7444574209"
      },
      "execution_count": 38,
      "outputs": [
        {
          "output_type": "execute_result",
          "data": {
            "text/html": [
              "\n",
              "  <div id=\"df-02a2b7cc-d800-441d-93a1-d59f239458dd\">\n",
              "    <div class=\"colab-df-container\">\n",
              "      <div>\n",
              "<style scoped>\n",
              "    .dataframe tbody tr th:only-of-type {\n",
              "        vertical-align: middle;\n",
              "    }\n",
              "\n",
              "    .dataframe tbody tr th {\n",
              "        vertical-align: top;\n",
              "    }\n",
              "\n",
              "    .dataframe thead th {\n",
              "        text-align: right;\n",
              "    }\n",
              "</style>\n",
              "<table border=\"1\" class=\"dataframe\">\n",
              "  <thead>\n",
              "    <tr style=\"text-align: right;\">\n",
              "      <th>Pred</th>\n",
              "      <th>LAYING</th>\n",
              "      <th>SITTING</th>\n",
              "      <th>STANDING</th>\n",
              "      <th>WALKING</th>\n",
              "      <th>WALKING_DOWNSTAIRS</th>\n",
              "      <th>WALKING_UPSTAIRS</th>\n",
              "    </tr>\n",
              "    <tr>\n",
              "      <th>True</th>\n",
              "      <th></th>\n",
              "      <th></th>\n",
              "      <th></th>\n",
              "      <th></th>\n",
              "      <th></th>\n",
              "      <th></th>\n",
              "    </tr>\n",
              "  </thead>\n",
              "  <tbody>\n",
              "    <tr>\n",
              "      <th>LAYING</th>\n",
              "      <td>537</td>\n",
              "      <td>0</td>\n",
              "      <td>0</td>\n",
              "      <td>0</td>\n",
              "      <td>0</td>\n",
              "      <td>0</td>\n",
              "    </tr>\n",
              "    <tr>\n",
              "      <th>SITTING</th>\n",
              "      <td>4</td>\n",
              "      <td>373</td>\n",
              "      <td>112</td>\n",
              "      <td>0</td>\n",
              "      <td>0</td>\n",
              "      <td>2</td>\n",
              "    </tr>\n",
              "    <tr>\n",
              "      <th>STANDING</th>\n",
              "      <td>0</td>\n",
              "      <td>59</td>\n",
              "      <td>473</td>\n",
              "      <td>0</td>\n",
              "      <td>0</td>\n",
              "      <td>0</td>\n",
              "    </tr>\n",
              "    <tr>\n",
              "      <th>WALKING</th>\n",
              "      <td>0</td>\n",
              "      <td>0</td>\n",
              "      <td>0</td>\n",
              "      <td>494</td>\n",
              "      <td>0</td>\n",
              "      <td>2</td>\n",
              "    </tr>\n",
              "    <tr>\n",
              "      <th>WALKING_DOWNSTAIRS</th>\n",
              "      <td>0</td>\n",
              "      <td>0</td>\n",
              "      <td>0</td>\n",
              "      <td>18</td>\n",
              "      <td>366</td>\n",
              "      <td>36</td>\n",
              "    </tr>\n",
              "    <tr>\n",
              "      <th>WALKING_UPSTAIRS</th>\n",
              "      <td>1</td>\n",
              "      <td>5</td>\n",
              "      <td>0</td>\n",
              "      <td>3</td>\n",
              "      <td>0</td>\n",
              "      <td>462</td>\n",
              "    </tr>\n",
              "  </tbody>\n",
              "</table>\n",
              "</div>\n",
              "      <button class=\"colab-df-convert\" onclick=\"convertToInteractive('df-02a2b7cc-d800-441d-93a1-d59f239458dd')\"\n",
              "              title=\"Convert this dataframe to an interactive table.\"\n",
              "              style=\"display:none;\">\n",
              "        \n",
              "  <svg xmlns=\"http://www.w3.org/2000/svg\" height=\"24px\"viewBox=\"0 0 24 24\"\n",
              "       width=\"24px\">\n",
              "    <path d=\"M0 0h24v24H0V0z\" fill=\"none\"/>\n",
              "    <path d=\"M18.56 5.44l.94 2.06.94-2.06 2.06-.94-2.06-.94-.94-2.06-.94 2.06-2.06.94zm-11 1L8.5 8.5l.94-2.06 2.06-.94-2.06-.94L8.5 2.5l-.94 2.06-2.06.94zm10 10l.94 2.06.94-2.06 2.06-.94-2.06-.94-.94-2.06-.94 2.06-2.06.94z\"/><path d=\"M17.41 7.96l-1.37-1.37c-.4-.4-.92-.59-1.43-.59-.52 0-1.04.2-1.43.59L10.3 9.45l-7.72 7.72c-.78.78-.78 2.05 0 2.83L4 21.41c.39.39.9.59 1.41.59.51 0 1.02-.2 1.41-.59l7.78-7.78 2.81-2.81c.8-.78.8-2.07 0-2.86zM5.41 20L4 18.59l7.72-7.72 1.47 1.35L5.41 20z\"/>\n",
              "  </svg>\n",
              "      </button>\n",
              "      \n",
              "  <style>\n",
              "    .colab-df-container {\n",
              "      display:flex;\n",
              "      flex-wrap:wrap;\n",
              "      gap: 12px;\n",
              "    }\n",
              "\n",
              "    .colab-df-convert {\n",
              "      background-color: #E8F0FE;\n",
              "      border: none;\n",
              "      border-radius: 50%;\n",
              "      cursor: pointer;\n",
              "      display: none;\n",
              "      fill: #1967D2;\n",
              "      height: 32px;\n",
              "      padding: 0 0 0 0;\n",
              "      width: 32px;\n",
              "    }\n",
              "\n",
              "    .colab-df-convert:hover {\n",
              "      background-color: #E2EBFA;\n",
              "      box-shadow: 0px 1px 2px rgba(60, 64, 67, 0.3), 0px 1px 3px 1px rgba(60, 64, 67, 0.15);\n",
              "      fill: #174EA6;\n",
              "    }\n",
              "\n",
              "    [theme=dark] .colab-df-convert {\n",
              "      background-color: #3B4455;\n",
              "      fill: #D2E3FC;\n",
              "    }\n",
              "\n",
              "    [theme=dark] .colab-df-convert:hover {\n",
              "      background-color: #434B5C;\n",
              "      box-shadow: 0px 1px 3px 1px rgba(0, 0, 0, 0.15);\n",
              "      filter: drop-shadow(0px 1px 2px rgba(0, 0, 0, 0.3));\n",
              "      fill: #FFFFFF;\n",
              "    }\n",
              "  </style>\n",
              "\n",
              "      <script>\n",
              "        const buttonEl =\n",
              "          document.querySelector('#df-02a2b7cc-d800-441d-93a1-d59f239458dd button.colab-df-convert');\n",
              "        buttonEl.style.display =\n",
              "          google.colab.kernel.accessAllowed ? 'block' : 'none';\n",
              "\n",
              "        async function convertToInteractive(key) {\n",
              "          const element = document.querySelector('#df-02a2b7cc-d800-441d-93a1-d59f239458dd');\n",
              "          const dataTable =\n",
              "            await google.colab.kernel.invokeFunction('convertToInteractive',\n",
              "                                                     [key], {});\n",
              "          if (!dataTable) return;\n",
              "\n",
              "          const docLinkHtml = 'Like what you see? Visit the ' +\n",
              "            '<a target=\"_blank\" href=https://colab.research.google.com/notebooks/data_table.ipynb>data table notebook</a>'\n",
              "            + ' to learn more about interactive tables.';\n",
              "          element.innerHTML = '';\n",
              "          dataTable['output_type'] = 'display_data';\n",
              "          await google.colab.output.renderOutput(dataTable, element);\n",
              "          const docLink = document.createElement('div');\n",
              "          docLink.innerHTML = docLinkHtml;\n",
              "          element.appendChild(docLink);\n",
              "        }\n",
              "      </script>\n",
              "    </div>\n",
              "  </div>\n",
              "  "
            ],
            "text/plain": [
              "Pred                LAYING  SITTING  ...  WALKING_DOWNSTAIRS  WALKING_UPSTAIRS\n",
              "True                                 ...                                      \n",
              "LAYING                 537        0  ...                   0                 0\n",
              "SITTING                  4      373  ...                   0                 2\n",
              "STANDING                 0       59  ...                   0                 0\n",
              "WALKING                  0        0  ...                   0                 2\n",
              "WALKING_DOWNSTAIRS       0        0  ...                 366                36\n",
              "WALKING_UPSTAIRS         1        5  ...                   0               462\n",
              "\n",
              "[6 rows x 6 columns]"
            ]
          },
          "metadata": {},
          "execution_count": 38
        }
      ]
    },
    {
      "cell_type": "code",
      "source": [
        "score = model.evaluate(X_test, Y_test)\n",
        "\n",
        "print(\"\\n   cat_crossentropy  ||   accuracy \")\n",
        "print(\"  ____________________________________\")\n",
        "print(score)\n"
      ],
      "metadata": {
        "colab": {
          "base_uri": "https://localhost:8080/"
        },
        "id": "3zjpvMax8d6N",
        "outputId": "12fff567-e9d1-4216-ba75-4d80742fff53"
      },
      "execution_count": 39,
      "outputs": [
        {
          "output_type": "stream",
          "name": "stdout",
          "text": [
            "93/93 [==============================] - 3s 29ms/step - loss: 0.3114 - accuracy: 0.9179\n",
            "\n",
            "   cat_crossentropy  ||   accuracy \n",
            "  ____________________________________\n",
            "[0.3113946318626404, 0.9178826212882996]\n"
          ]
        }
      ]
    },
    {
      "cell_type": "code",
      "source": [
        ""
      ],
      "metadata": {
        "id": "aFIQRBAl8l_O"
      },
      "execution_count": null,
      "outputs": []
    }
  ]
}